{
  "cells": [
    {
      "cell_type": "code",
      "source": [
        "!pip install datasets\n",
        "\n",
        "import os\n",
        "import numpy as np\n",
        "from PIL import Image\n",
        "import matplotlib.pyplot as plt\n",
        "from textwrap import wrap\n",
        "from datasets import load_dataset\n",
        "\n",
        "mydata = load_dataset('valhalla/emoji-dataset')\n",
        "keywords = ['face','christmas','superhero','supervillian','mage','vampire','monkey','elf','juggling',\n",
        "            'boy','girl','adult','person','man','woman','male','female','worker','scientist','technologist',\n",
        "            'singer','artist','pilot','astronaut','firefighter','police','sleuth','construction']\n",
        "\n",
        "\n",
        "plt.rcParams[\"figure.figsize\"] = [1.5, 1.50]\n",
        "\n",
        "mydata = load_dataset('valhalla/emoji-dataset')\n",
        "print(len(mydata['train']))\n",
        "total_obs = len(mydata['train'])\n",
        "data = np.zeros([total_obs,3,64,64],dtype='float32')\n",
        "for i in range(total_obs):\n",
        "    print(i)\n",
        "    im = mydata['train'][i]['image']\n",
        "    title = mydata['train'][i]['text']\n",
        "    if title.find(keywords[0]) > -1:\n",
        "        plt.imshow(im)\n",
        "        print(title)\n",
        "        plt.show()\n",
        "\n",
        "        im = im.resize((64,64),Image.LANCZOS)\n",
        "        title = \"lower resolution\"\n",
        "        plt.imshow(im)\n",
        "        print(title)\n",
        "        plt.show()\n",
        "        pix = im.load()\n",
        "        for x in range(im.size[0]):\n",
        "            for y in range(im.size[1]):\n",
        "                for c in range(3):\n",
        "                    data[i,c,x,y] = float(pix[x,y][c]) / 255.0\n"
      ],
      "metadata": {
        "id": "lmhHYix09fiu"
      },
      "execution_count": null,
      "outputs": []
    }
  ],
  "metadata": {
    "colab": {
      "provenance": []
    },
    "kernelspec": {
      "display_name": "Python 3",
      "name": "python3"
    },
    "language_info": {
      "name": "python"
    }
  },
  "nbformat": 4,
  "nbformat_minor": 0
}